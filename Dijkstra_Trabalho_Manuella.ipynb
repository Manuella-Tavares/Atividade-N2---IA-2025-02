{
  "cells": [
    {
      "cell_type": "markdown",
      "id": "edc996a1",
      "metadata": {
        "id": "edc996a1"
      },
      "source": [
        "\n",
        "# __Algoritmo de Dijkstra — Caminho Mínimo em Grafos Ponderados Positivos__\n",
        "\n",
        "**Nome: Manuella Tavares Vasconcelos**\n",
        "**Turma: ENGCO221N02**\n",
        "**Matrícula: 2401790**\n",
        "---\n"
      ]
    },
    {
      "cell_type": "markdown",
      "id": "1134c48f",
      "metadata": {
        "id": "1134c48f"
      },
      "source": [
        "## __Parte A — Contexto__\n",
        "\n",
        "Imagine que você está projetando um **sistema de navegação para ambulâncias** em uma cidade.  \n",
        "Cada interseção é um **nó** e cada rua é uma **aresta ponderada** com o **tempo médio de deslocamento**.\n",
        "\n",
        "O objetivo é encontrar a **rota mais rápida entre o hospital e o local de atendimento**, garantindo que o caminho tenha **custo mínimo** e seja **correto mesmo em grandes redes urbanas**.\n",
        "\n",
        "---\n",
        "Atividades\n",
        "\n",
        "Implemente o algoritmo de Dijkstra, retornando o custo mínimo (dist) e os predecessores (parent).\n",
        "\n",
        "Crie uma função reconstruct_path(parent, target) que reconstrua o trajeto."
      ]
    },
    {
      "cell_type": "markdown",
      "id": "f942fbce",
      "metadata": {
        "id": "f942fbce"
      },
      "source": [
        "## __Implementação do Algoritmo de Dijkstra__"
      ]
    },
    {
      "cell_type": "code",
      "execution_count": null,
      "id": "8bba4039",
      "metadata": {
        "colab": {
          "base_uri": "https://localhost:8080/"
        },
        "id": "8bba4039",
        "outputId": "89bac6a6-7161-4357-9fc2-3fd65ad3f5a4"
      },
      "outputs": [
        {
          "name": "stdout",
          "output_type": "stream",
          "text": [
            "Distâncias calculadas a partir do Hospital (H):\n",
            "A: 21.0\n",
            "B: 3.0\n",
            "C: 2.0\n",
            "D: 8.0\n",
            "E: 11.0\n",
            "F: 15.0\n",
            "H: 0.0\n",
            "\n",
            "Caminho H -> A: ['H', 'C', 'B', 'D', 'F', 'A']  | Custo total: 21.0\n",
            "Novo caminho H -> A: ['H', 'C', 'B', 'D', 'E', 'F', 'A']  | Novo custo: 21.0\n"
          ]
        }
      ],
      "source": [
        "import heapq\n",
        "\n",
        "def dijkstra(graph, source):\n",
        "    dist = {node: float('inf') for node in graph}\n",
        "    parent = {node: None for node in graph}\n",
        "    dist[source] = 0.0\n",
        "    heap = [(0.0, source)]\n",
        "    visited = set()\n",
        "    while heap:\n",
        "        d, u = heapq.heappop(heap)\n",
        "        if u in visited:\n",
        "            continue\n",
        "        visited.add(u)\n",
        "        if d > dist[u]:\n",
        "            continue\n",
        "        for v, w in graph[u]:\n",
        "            if w < 0:\n",
        "                raise ValueError(\"Dijkstra requer pesos não negativos nas arestas.\")\n",
        "            nd = d + w\n",
        "            if nd < dist[v]:\n",
        "                dist[v] = nd\n",
        "                parent[v] = u\n",
        "                heapq.heappush(heap, (nd, v))\n",
        "    return dist, parent\n",
        "\n",
        "def reconstruct_path(parent, target):\n",
        "    path = []\n",
        "    cur = target\n",
        "    while cur is not None:\n",
        "        path.append(cur)\n",
        "        cur = parent[cur]\n",
        "    path.reverse()\n",
        "    return path\n",
        "\n",
        "#Grafo de Exemplo (Cidade com Hospital e Pontos de Atendimento)\n",
        "\n",
        "graph = {\n",
        "    'H': [('B', 4), ('C', 2)],\n",
        "    'B': [('H', 4), ('C', 1), ('D', 5), ('E', 12)],\n",
        "    'C': [('H', 2), ('B', 1), ('D', 8)],\n",
        "    'D': [('B', 5), ('C', 8), ('E', 3), ('F', 7)],\n",
        "    'E': [('B', 12), ('D', 3), ('F', 4)],\n",
        "    'F': [('D', 7), ('E', 4), ('A', 6)],\n",
        "    'A': [('F', 6)]\n",
        "}\n",
        "\n",
        "#Execução do Dijkstra e Reconstrução do caminho\n",
        "dist, parent = dijkstra(graph, 'H')\n",
        "print('Distâncias calculadas a partir do Hospital (H):')\n",
        "for k in sorted(dist):\n",
        "    print(f'{k}: {dist[k]}')\n",
        "print('\\nCaminho H -> A:', reconstruct_path(parent, 'A'), ' | Custo total:', dist['A'])\n",
        "\n",
        "#Teste de Mudança de Tráfego (Alterar Pesos de Ruas)\n",
        "#Simulando aumento no tempo entre D e F (de 7 para 50)\n",
        "\n",
        "graph_mod = {u: [(v,w) for (v,w) in graph[u]] for u in graph}\n",
        "graph_mod['D'] = [(v, 50 if v=='F' else w) for (v,w) in graph_mod['D']]\n",
        "graph_mod['F'] = [(v, 50 if v=='D' else w) for (v,w) in graph_mod['F']]\n",
        "\n",
        "dist2, parent2 = dijkstra(graph_mod, 'H')\n",
        "print('Novo caminho H -> A:', reconstruct_path(parent2, 'A'), ' | Novo custo:', dist2['A'])\n"
      ]
    },
    {
      "cell_type": "markdown",
      "id": "59323fba",
      "metadata": {
        "id": "59323fba"
      },
      "source": [
        "## __Questões Discursivas__\n"
      ]
    },
    {
      "cell_type": "markdown",
      "id": "5ea65f75",
      "metadata": {
        "id": "5ea65f75"
      },
      "source": [
        "### __1️⃣ Por que Dijkstra exige arestas não negativas?__\n",
        "O algoritmo Dijkstra **assume** que, uma vez encontrado o menor custo até um nó, esse custo **nunca será melhorado** depois.  \n",
        "Isso só é verdadeiro quando **todos os pesos são ≥ 0**.  \n",
        "Se existirem pesos negativos, um caminho futuro poderia **diminuir** a distância já calculada, e o resultado estaria errado.  \n",
        "Por isso, Dijkstra **não funciona com pesos negativos** — para esses casos, usamos o algoritmo de **Bellman-Ford**.\n",
        "\n",
        "---\n",
        "\n",
        "### __2️⃣ Qual a complexidade do algoritmo com lista de adjacência e `heapq`?__\n",
        "A complexidade do algoritmo de Dijkstra usando lista de adjacência e heapq é O(E log V) no tempo e O(V + E) no espaço.\n",
        "Isso acontece porque o algoritmo examina cada aresta uma vez e usa um heap para escolher o próximo vértice com menor distância, o que custa log V a cada operação.\n",
        "\n",
        "---\n",
        "\n",
        "### __3️⃣ Ao testar observei que:__\n",
        "- Quando aumentei o peso de uma rua (ex: D–F), o caminho ótimo **mudou**, mostrando que o algoritmo reage corretamente às alterações.  \n",
        "- Quando há empate nos custos, Dijkstra ainda encontra um caminho válido e mínimo.  \n",
        "- Testes com pesos negativos apresentam um erro, confirmando que a verificação está funcionando.\n",
        "\n",
        "---\n"
      ]
    },
    {
      "cell_type": "markdown",
      "id": "F6Ua_rMLdRf8",
      "metadata": {
        "id": "F6Ua_rMLdRf8"
      },
      "source": [
        "## __Parte B — Contexto__\n",
        "> Agora, considere um robô autônomo que deve se deslocar por um labirinto 2D, evitando obstáculos e chegando ao destino no menor tempo possível.\n",
        "Diferente do Dijkstra, o robô pode usar uma heurística (como a distância ao alvo) para priorizar rotas promissoras, economizando tempo de busca.\n",
        "\n",
        "**Atividades**\n",
        "\n",
        "1. Gere um grid 20x20 com ~15% de obstáculos aleatórios.\n",
        "\n",
        "2. Implemente a função heuristic(a, b) (distância Manhattan).\n",
        "\n",
        "3. Desenvolva o algoritmo a_star(grid, start, goal, h) e teste-o.\n"
      ]
    },
    {
      "cell_type": "code",
      "execution_count": null,
      "id": "6csFIw6vMZB2",
      "metadata": {
        "colab": {
          "base_uri": "https://localhost:8080/"
        },
        "id": "6csFIw6vMZB2",
        "outputId": "429efb23-4e20-44af-9b4d-55271b5b80b4"
      },
      "outputs": [
        {
          "name": "stdout",
          "output_type": "stream",
          "text": [
            "Caminho encontrado! Custo: 38\n",
            "Número de passos: 39\n"
          ]
        }
      ],
      "source": [
        "import numpy as np\n",
        "import random\n",
        "import heapq\n",
        "\n",
        "# 1 Gerar grid 20x20 com obstáculos (~15%)\n",
        "def generate_grid(size=20, obstacle_prob=0.15, seed=None):\n",
        "    if seed is not None:\n",
        "        random.seed(seed)\n",
        "        np.random.seed(seed)\n",
        "    grid = np.zeros((size, size), dtype=int)\n",
        "    for i in range(size):\n",
        "        for j in range(size):\n",
        "            if random.random() < obstacle_prob:\n",
        "                grid[i, j] = 1  # 1 = obstáculo\n",
        "    return grid\n",
        "\n",
        "# 2️ Heurística Manhattan\n",
        "def heuristic(a, b):\n",
        "    # Retorna a soma das diferenças das coordenadas (movimentos ortogonais)\n",
        "    return abs(a[0] - b[0]) + abs(a[1] - b[1])\n",
        "\n",
        "# 3️ Algoritmo A*\n",
        "def a_star(grid, start, goal, h):\n",
        "    size = grid.shape[0]\n",
        "    open_set = []\n",
        "    heapq.heappush(open_set, (0 + h(start, goal), 0, start, [start]))  # (f, g, posição, caminho)\n",
        "    visited = set()\n",
        "\n",
        "    while open_set:\n",
        "        f, g, current, path = heapq.heappop(open_set)\n",
        "\n",
        "        if current == goal:\n",
        "            return path, g  # retorna caminho e custo total\n",
        "\n",
        "        if current in visited:\n",
        "            continue\n",
        "        visited.add(current)\n",
        "\n",
        "        x, y = current\n",
        "        # Movimentos possíveis: cima, baixo, esquerda, direita\n",
        "        for dx, dy in [(-1,0),(1,0),(0,-1),(0,1)]:\n",
        "            nx, ny = x + dx, y + dy\n",
        "            if 0 <= nx < size and 0 <= ny < size and grid[nx, ny] == 0:\n",
        "                neighbor = (nx, ny)\n",
        "                if neighbor not in visited:\n",
        "                    new_g = g + 1\n",
        "                    new_f = new_g + h(neighbor, goal)\n",
        "                    heapq.heappush(open_set, (new_f, new_g, neighbor, path + [neighbor]))\n",
        "\n",
        "    return None, float('inf')  # se não houver caminho\n",
        "\n",
        "# 4️ Teste do A*\n",
        "grid = generate_grid(20, 0.15, seed=2025)\n",
        "start = (0, 0)\n",
        "goal = (19, 19)\n",
        "\n",
        "path, cost = a_star(grid, start, goal, heuristic)\n",
        "\n",
        "if path:\n",
        "    print(\"Caminho encontrado! Custo:\", cost)\n",
        "    print(\"Número de passos:\", len(path))\n",
        "else:\n",
        "    print(\"Não há caminho possível.\")\n"
      ]
    },
    {
      "cell_type": "markdown",
      "id": "qMvsiR-bNF_A",
      "metadata": {
        "id": "qMvsiR-bNF_A"
      },
      "source": [
        "## Questões Discursivas\n"
      ]
    },
    {
      "cell_type": "markdown",
      "id": "04A3Nsd0NPvE",
      "metadata": {
        "id": "04A3Nsd0NPvE"
      },
      "source": [
        "### __1️⃣ A* vs Dijkstra: qual expande menos nós?__\n",
        "\n",
        "A vs Dijkstra:* A* expande menos nós, pois a heurística prioriza caminhos promissores, enquanto Dijkstra explora todos uniformemente.\n",
        "\n",
        "---\n",
        "\n",
        "### __2️⃣ Por que a heurística Manhattan é admissível nesse caso?__\n",
        "É admissível, porque nunca superestima o custo real; em um grid 2D com movimentos ortogonais, o mínimo de passos até o objetivo é exatamente a soma das diferenças de linhas e colunas.\n",
        "\n",
        "---\n",
        "💡 Cenário real: A* ajuda robôs e jogos a encontrar rotas rápidas evitando obstáculos, economizando tempo e energia.\n"
      ]
    },
    {
      "cell_type": "markdown",
      "id": "Z8HQlhb_OQxa",
      "metadata": {
        "id": "Z8HQlhb_OQxa"
      },
      "source": [
        "**Parte C — Árvores Binárias e Percursos (DFS em-ordem, pré-ordem e pós-ordem) Contexto**\n",
        "\n",
        "> Você está desenvolvendo um sistema de recomendação que organiza produtos em uma árvore binária de busca (BST), conforme o preço. Cada nó é um produto e a travessia da árvore pode ser usada para: 1. Ordenar produtos (em-ordem); 2. Clonar a estrutura (pré-ordem); 3. Calcular totais ou liberar memória (pós-ordem);\n",
        "\n",
        "**Atividades**\n",
        "\n",
        "1. Crie uma BST com os valores: [50, 30, 70, 20, 40, 60, 80, 35, 45].\n",
        "\n",
        "Implemente os percursos:\n",
        "\n",
        "1. in_order(root)\n",
        "\n",
        "2. pre_order(root)\n",
        "\n",
        "3. post_order(root)\n",
        "\n",
        "Teste se as saídas correspondem às travessias esperadas."
      ]
    },
    {
      "cell_type": "code",
      "execution_count": null,
      "id": "IhHSMG1uQuPm",
      "metadata": {
        "colab": {
          "base_uri": "https://localhost:8080/"
        },
        "id": "IhHSMG1uQuPm",
        "outputId": "535f70c3-3353-4372-e079-94d6bffb1c94"
      },
      "outputs": [
        {
          "name": "stdout",
          "output_type": "stream",
          "text": [
            "Em-ordem:\n",
            "20 30 35 40 45 50 60 70 80 \n",
            "Pré-ordem:\n",
            "50 30 20 40 35 45 70 60 80 \n",
            "Pós-ordem:\n",
            "20 35 45 40 30 60 80 70 50 "
          ]
        }
      ],
      "source": [
        "# Definição do nó da árvore\n",
        "class Node:\n",
        "    def __init__(self, valor):\n",
        "        self.valor = valor\n",
        "        self.esq = None\n",
        "        self.dir = None\n",
        "\n",
        "# Inserção na BST\n",
        "def inserir(root, valor):\n",
        "    if root is None:\n",
        "        return Node(valor)\n",
        "    if valor < root.valor:\n",
        "        root.esq = inserir(root.esq, valor)\n",
        "    else:\n",
        "        root.dir = inserir(root.dir, valor)\n",
        "    return root\n",
        "\n",
        "# Percurso em-ordem (esq → raiz → dir)\n",
        "def in_order(root):\n",
        "    if root:\n",
        "        in_order(root.esq)\n",
        "        print(root.valor, end=' ')\n",
        "        in_order(root.dir)\n",
        "\n",
        "# Percurso pré-ordem (raiz → esq → dir)\n",
        "def pre_order(root):\n",
        "    if root:\n",
        "        print(root.valor, end=' ')\n",
        "        pre_order(root.esq)\n",
        "        pre_order(root.dir)\n",
        "\n",
        "# Percurso pós-ordem (esq → dir → raiz)\n",
        "def post_order(root):\n",
        "    if root:\n",
        "        post_order(root.esq)\n",
        "        post_order(root.dir)\n",
        "        print(root.valor, end=' ')\n",
        "\n",
        "# --- Teste ---\n",
        "valores = [50, 30, 70, 20, 40, 60, 80, 35, 45]\n",
        "root = None\n",
        "for v in valores:\n",
        "    root = inserir(root, v)\n",
        "\n",
        "print(\"Em-ordem:\")\n",
        "in_order(root)\n",
        "print(\"\\nPré-ordem:\")\n",
        "pre_order(root)\n",
        "print(\"\\nPós-ordem:\")\n",
        "post_order(root)\n"
      ]
    },
    {
      "cell_type": "markdown",
      "id": "ih1yMjCGOpir",
      "metadata": {
        "id": "ih1yMjCGOpir"
      },
      "source": [
        "## Questões Discursivas\n"
      ]
    },
    {
      "cell_type": "markdown",
      "id": "EXg1NWTrOn-k",
      "metadata": {
        "id": "EXg1NWTrOn-k"
      },
      "source": [
        "### __1️⃣Em que situação cada tipo de percurso é mais indicado?__\n",
        "\n",
        "No percurso em-ordem, a gente visita primeiro o filho da esquerda, depois o nó atual (a raiz) e, por último, o da direita. Esse tipo de travessia é muito útil quando eu quero listar os elementos em ordem crescente, como no caso de produtos organizados por preço.\n",
        "\n",
        "Já o pré-ordem começa pela raiz, depois passa pela esquerda e pela direita. Ele é bom quando eu quero clonar ou copiar a estrutura da árvore, porque a ordem em que os nós são visitados mantém exatamente o formato original.\n",
        "\n",
        "Por fim, o pós-ordem visita primeiro a esquerda, depois a direita e só no final o nó raiz. Esse é o mais indicado quando eu preciso calcular totais, liberar memória ou apagar a árvore, já que ele garante que todos os filhos sejam processados antes do nó principal."
      ]
    },
    {
      "cell_type": "markdown",
      "id": "8W-f5ktgRWOQ",
      "metadata": {
        "id": "8W-f5ktgRWOQ"
      },
      "source": [
        "## Parte D — Reflexões (Respostas Curtas)"
      ]
    },
    {
      "cell_type": "markdown",
      "id": "QC2R0sZMSUSU",
      "metadata": {
        "id": "QC2R0sZMSUSU"
      },
      "source": [
        "### __1️. Quando não é vantajoso usar A*, mesmo tendo uma heurística?__\n",
        "O A* não é vantajoso quando o grafo é muito grande, como em mapas de cidades inteiras ou jogos com muitos caminhos possíveis. Se a heurística for fraca (por exemplo, em um mapa, quando a distância estimada é muito diferente da real), o algoritmo perde tempo explorando nós desnecessários, ficando quase tão lento quanto o Dijkstra. Além disso, se calcular a heurística for caro, como estimar distâncias 3D em jogos complexos, o custo de processamento pode anular os benefícios. Também não vale a pena quando os custos mudam com frequência, como em sistemas de tráfego em tempo real.\n",
        "\n",
        "### __2. Diferencie corretude e otimalidade nos algoritmos estudados.__\n",
        "A corretude garante que o algoritmo encontre uma solução válida, como achar um caminho possível entre dois pontos em um mapa, mesmo que não seja o mais curto. Já a otimalidade garante que essa solução é a melhor possível — por exemplo, o caminho mais rápido entre duas cidades em um GPS. O Dijkstra e o A* com heurística admissível são corretos e ótimos, pois sempre retornam o menor custo. Em contrapartida, buscas mais simples, como BFS em um mapa com pesos diferentes, podem ser corretas (acham um caminho), mas não ótimas (não é o mais curto).\n",
        "\n",
        "\n",
        "### __3. Dê um exemplo do mundo real onde cada tipo de percurso (em, pré, pós) é essencial.__\n",
        "\n",
        "No percurso em-ordem, um sistema de busca de produtos pode exibir itens ordenados por preço, como um e-commerce. O pré-ordem é útil em jogos, quando o sistema precisa copiar o mapa ou recriar uma árvore de decisões dos personagens. Já o pós-ordem é essencial em compiladores, que usam árvores sintáticas para avaliar expressões matemáticas, processando primeiro os operandos e depois o operador. Assim, cada percurso serve para uma necessidade: ordenar, clonar ou processar dados complexos.\n",
        "\n",
        "### __4. Como heurísticas inconsistentes podem afetar o resultado do A*?__\n",
        "\n",
        "\n",
        "Heurísticas inconsistentes podem prejudicar o desempenho do A*, especialmente em sistemas de mapas e jogos. Isso acontece quando a estimativa de distância entre os pontos não segue uma lógica estável — por exemplo, quando a “distância aérea” parece menor que a soma dos trechos intermediários. Nesse caso, o algoritmo pode reabrir nós já visitados e recalcular caminhos, ficando mais lento e desperdiçando recursos. Em jogos de estratégia ou sistemas de navegação, isso pode causar trajetos incorretos ou menos eficientes. Por isso, heurísticas consistentes são essenciais para garantir rapidez e resultados ótimos."
      ]
    }
  ],
  "metadata": {
    "colab": {
      "provenance": []
    },
    "kernelspec": {
      "display_name": "Python 3",
      "name": "python3"
    },
    "language_info": {
      "name": "python"
    }
  },
  "nbformat": 4,
  "nbformat_minor": 5
}
